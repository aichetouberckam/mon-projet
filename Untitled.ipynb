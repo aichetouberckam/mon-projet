{
 "cells": [
  {
   "cell_type": "code",
   "execution_count": 1,
   "id": "fa4b66f7",
   "metadata": {},
   "outputs": [],
   "source": [
    "import numpy as np\n",
    "import pandas as pd\n",
    "import os\n",
    "import cv2\n",
    "import matplotlib.pyplot as plt\n",
    "\n",
    "from tensorflow.keras.utils import to_categorical\n",
    "from sklearn.model_selection import train_test_split\n",
    "\n",
    "from tensorflow.keras.models import Sequential, load_model\n",
    "from tensorflow.keras.layers import InputLayer, Dense, Dropout, Flatten, Conv2D, MaxPooling2D, MaxPool2D\n",
    "\n",
    "from tensorflow.keras.layers.experimental.preprocessing import RandomFlip, RandomRotation, RandomZoom, RandomContrast, RandomTranslation"
   ]
  },
  {
   "cell_type": "code",
   "execution_count": 42,
   "id": "05f56737",
   "metadata": {},
   "outputs": [],
   "source": [
    "def read_images(directory_path):\n",
    "    images = []\n",
    "    labels = []\n",
    "\n",
    "    subdirectories = [subdir for subdir in os.listdir(directory_path) if os.path.isdir(os.path.join(directory_path, subdir))]\n",
    "\n",
    "    for subdir in subdirectories:\n",
    "        subdirectory_path = os.path.join(directory_path, subdir)\n",
    "\n",
    "        for filename in os.listdir(subdirectory_path):\n",
    "                image_path = os.path.join(subdirectory_path, filename)\n",
    "                image = cv2.imread(image_path)\n",
    "                image = cv2.cvtColor(image, cv2.COLOR_BGR2RGB) # Conversion couleur RGB\n",
    "                image = cv2.resize(image, (60, 60))  # Taille des images en 60x60 pixels\n",
    "                images.append(image)\n",
    "\n",
    "                label = int(subdir)\n",
    "                labels.append(label)\n",
    "\n",
    "    X = np.array(images)\n",
    "    y = np.array(labels)\n",
    "    \n",
    "    return X, y"
   ]
  },
  {
   "cell_type": "code",
   "execution_count": null,
   "id": "0934b9e9",
   "metadata": {},
   "outputs": [],
   "source": [
    "X, y = read_images('C:/Users/kjh/Downloads/Train')\n"
   ]
  },
  {
   "cell_type": "code",
   "execution_count": null,
   "id": "ce39129a",
   "metadata": {},
   "outputs": [],
   "source": [
    "\n",
    "Classes = ['Speed limit (20km/h)','Speed limit (30km/h)', 'Speed limit (50km/h)', \n",
    "           'Speed limit (60km/h)', 'Speed limit (70km/h)', 'Speed limit (80km/h)', \n",
    "           'End of speed limit (80km/h)', 'Speed limit (100km/h)', 'Speed limit (120km/h)', \n",
    "           'No passing', 'No passing veh over 3.5 tons', 'Right-of-way at intersection', \n",
    "           'Priority road', 'Yield', 'Stop', 'No vehicles', 'Veh > 3.5 tons prohibited', \n",
    "           'No entry', 'General caution', 'Dangerous curve left', 'Dangerous curve right', \n",
    "           'Double curve', 'Bumpy road', 'Slippery road', 'Road narrows on the right', \n",
    "           'Road work', 'Traffic signals', 'Pedestrians', 'Children crossing', \n",
    "           'Bicycles crossing', 'Beware of ice/snow','Wild animals crossing', \n",
    "           'End speed + passing limits', 'Turn right ahead', 'Turn left ahead', \n",
    "           'Ahead only', 'Go straight or right', 'Go straight or left', 'Keep right', \n",
    "           'Keep left', 'Roundabout mandatory', 'End of no passing', \n",
    "           'End no passing veh > 3.5 tons']\n"
   ]
  },
  {
   "cell_type": "code",
   "execution_count": null,
   "id": "84a6e12b",
   "metadata": {},
   "outputs": [],
   "source": [
    "import random\n",
    "plt.figure(figsize=(10,20))\n",
    "for i in range(0,25) :\n",
    "    plt.subplot(10,5,i+1)\n",
    "    j = random.randint(0,len(X))\n",
    "    plt.axis('off')\n",
    "    plt.imshow(X[j])\n",
    "    plt.title(Classes[y[j]])\n",
    "    #plt.title(y[j])"
   ]
  },
  {
   "cell_type": "code",
   "execution_count": 35,
   "id": "2ae537d4",
   "metadata": {},
   "outputs": [],
   "source": [
    "Nombre_classes = len(Classes) # 43 classes"
   ]
  },
  {
   "cell_type": "code",
   "execution_count": 36,
   "id": "79cb8671",
   "metadata": {},
   "outputs": [
    {
     "name": "stdout",
     "output_type": "stream",
     "text": [
      "43\n"
     ]
    }
   ],
   "source": [
    "print(Nombre_classes)"
   ]
  },
  {
   "cell_type": "code",
   "execution_count": 24,
   "id": "b5a5cb08",
   "metadata": {},
   "outputs": [
    {
     "name": "stdout",
     "output_type": "stream",
     "text": [
      "210 éléments dans la classe 0 : Speed limit (20km/h)\n",
      "2220 éléments dans la classe 1 : Speed limit (30km/h)\n",
      "2250 éléments dans la classe 2 : Speed limit (50km/h)\n",
      "1410 éléments dans la classe 3 : Speed limit (60km/h)\n",
      "1980 éléments dans la classe 4 : Speed limit (70km/h)\n",
      "1860 éléments dans la classe 5 : Speed limit (80km/h)\n",
      "420 éléments dans la classe 6 : End of speed limit (80km/h)\n",
      "1440 éléments dans la classe 7 : Speed limit (100km/h)\n",
      "1410 éléments dans la classe 8 : Speed limit (120km/h)\n",
      "1470 éléments dans la classe 9 : No passing\n",
      "2010 éléments dans la classe 10 : No passing veh over 3.5 tons\n",
      "1320 éléments dans la classe 11 : Right-of-way at intersection\n",
      "2100 éléments dans la classe 12 : Priority road\n",
      "2160 éléments dans la classe 13 : Yield\n",
      "780 éléments dans la classe 14 : Stop\n",
      "630 éléments dans la classe 15 : No vehicles\n",
      "420 éléments dans la classe 16 : Veh > 3.5 tons prohibited\n",
      "1110 éléments dans la classe 17 : No entry\n",
      "1200 éléments dans la classe 18 : General caution\n",
      "210 éléments dans la classe 19 : Dangerous curve left\n",
      "360 éléments dans la classe 20 : Dangerous curve right\n",
      "330 éléments dans la classe 21 : Double curve\n",
      "390 éléments dans la classe 22 : Bumpy road\n",
      "510 éléments dans la classe 23 : Slippery road\n",
      "270 éléments dans la classe 24 : Road narrows on the right\n",
      "1500 éléments dans la classe 25 : Road work\n",
      "600 éléments dans la classe 26 : Traffic signals\n",
      "240 éléments dans la classe 27 : Pedestrians\n",
      "540 éléments dans la classe 28 : Children crossing\n",
      "270 éléments dans la classe 29 : Bicycles crossing\n",
      "450 éléments dans la classe 30 : Beware of ice/snow\n",
      "780 éléments dans la classe 31 : Wild animals crossing\n",
      "240 éléments dans la classe 32 : End speed + passing limits\n",
      "689 éléments dans la classe 33 : Turn right ahead\n",
      "420 éléments dans la classe 34 : Turn left ahead\n",
      "1200 éléments dans la classe 35 : Ahead only\n",
      "390 éléments dans la classe 36 : Go straight or right\n",
      "210 éléments dans la classe 37 : Go straight or left\n",
      "2070 éléments dans la classe 38 : Keep right\n",
      "300 éléments dans la classe 39 : Keep left\n",
      "360 éléments dans la classe 40 : Roundabout mandatory\n",
      "240 éléments dans la classe 41 : End of no passing\n",
      "240 éléments dans la classe 42 : End no passing veh > 3.5 tons\n"
     ]
    }
   ],
   "source": [
    "for i in range(Nombre_classes):\n",
    "    print(str((y == i).sum()) + ' éléments dans la classe ' + str(i) + ' : ' + str(Classes[i]))"
   ]
  },
  {
   "cell_type": "code",
   "execution_count": 37,
   "id": "ef0d0de2",
   "metadata": {},
   "outputs": [],
   "source": [
    "y = to_categorical(y)"
   ]
  },
  {
   "cell_type": "code",
   "execution_count": 38,
   "id": "e3ca5243",
   "metadata": {},
   "outputs": [
    {
     "data": {
      "text/plain": [
       "(39209, 60, 60, 3)"
      ]
     },
     "execution_count": 38,
     "metadata": {},
     "output_type": "execute_result"
    }
   ],
   "source": [
    "X.shape"
   ]
  },
  {
   "cell_type": "code",
   "execution_count": 39,
   "id": "ae4addb3",
   "metadata": {},
   "outputs": [],
   "source": [
    "# Normalisation entre 0 et 1\n",
    "X = X / 255\n",
    "# print(X[0][0])"
   ]
  },
  {
   "cell_type": "code",
   "execution_count": 40,
   "id": "200c5f6d",
   "metadata": {},
   "outputs": [
    {
     "ename": "MemoryError",
     "evalue": "Unable to allocate 2.84 GiB for an array with shape (35288, 60, 60, 3) and data type float64",
     "output_type": "error",
     "traceback": [
      "\u001b[1;31m---------------------------------------------------------------------------\u001b[0m",
      "\u001b[1;31mMemoryError\u001b[0m                               Traceback (most recent call last)",
      "Cell \u001b[1;32mIn[40], line 1\u001b[0m\n\u001b[1;32m----> 1\u001b[0m X_train, X_test, y_train, y_test \u001b[38;5;241m=\u001b[39m \u001b[43mtrain_test_split\u001b[49m\u001b[43m(\u001b[49m\u001b[43mX\u001b[49m\u001b[43m,\u001b[49m\u001b[43m \u001b[49m\u001b[43my\u001b[49m\u001b[43m,\u001b[49m\u001b[43m \u001b[49m\u001b[43mtest_size\u001b[49m\u001b[38;5;241;43m=\u001b[39;49m\u001b[38;5;241;43m0.1\u001b[39;49m\u001b[43m,\u001b[49m\u001b[43m \u001b[49m\u001b[43mrandom_state\u001b[49m\u001b[38;5;241;43m=\u001b[39;49m\u001b[38;5;241;43m1\u001b[39;49m\u001b[43m)\u001b[49m\n",
      "File \u001b[1;32m~\\anaconda3\\lib\\site-packages\\sklearn\\model_selection\\_split.py:2585\u001b[0m, in \u001b[0;36mtrain_test_split\u001b[1;34m(test_size, train_size, random_state, shuffle, stratify, *arrays)\u001b[0m\n\u001b[0;32m   2581\u001b[0m     cv \u001b[38;5;241m=\u001b[39m CVClass(test_size\u001b[38;5;241m=\u001b[39mn_test, train_size\u001b[38;5;241m=\u001b[39mn_train, random_state\u001b[38;5;241m=\u001b[39mrandom_state)\n\u001b[0;32m   2583\u001b[0m     train, test \u001b[38;5;241m=\u001b[39m \u001b[38;5;28mnext\u001b[39m(cv\u001b[38;5;241m.\u001b[39msplit(X\u001b[38;5;241m=\u001b[39marrays[\u001b[38;5;241m0\u001b[39m], y\u001b[38;5;241m=\u001b[39mstratify))\n\u001b[1;32m-> 2585\u001b[0m \u001b[38;5;28;01mreturn\u001b[39;00m \u001b[38;5;28;43mlist\u001b[39;49m\u001b[43m(\u001b[49m\n\u001b[0;32m   2586\u001b[0m \u001b[43m    \u001b[49m\u001b[43mchain\u001b[49m\u001b[38;5;241;43m.\u001b[39;49m\u001b[43mfrom_iterable\u001b[49m\u001b[43m(\u001b[49m\n\u001b[0;32m   2587\u001b[0m \u001b[43m        \u001b[49m\u001b[43m(\u001b[49m\u001b[43m_safe_indexing\u001b[49m\u001b[43m(\u001b[49m\u001b[43ma\u001b[49m\u001b[43m,\u001b[49m\u001b[43m \u001b[49m\u001b[43mtrain\u001b[49m\u001b[43m)\u001b[49m\u001b[43m,\u001b[49m\u001b[43m \u001b[49m\u001b[43m_safe_indexing\u001b[49m\u001b[43m(\u001b[49m\u001b[43ma\u001b[49m\u001b[43m,\u001b[49m\u001b[43m \u001b[49m\u001b[43mtest\u001b[49m\u001b[43m)\u001b[49m\u001b[43m)\u001b[49m\u001b[43m \u001b[49m\u001b[38;5;28;43;01mfor\u001b[39;49;00m\u001b[43m \u001b[49m\u001b[43ma\u001b[49m\u001b[43m \u001b[49m\u001b[38;5;129;43;01min\u001b[39;49;00m\u001b[43m \u001b[49m\u001b[43marrays\u001b[49m\n\u001b[0;32m   2588\u001b[0m \u001b[43m    \u001b[49m\u001b[43m)\u001b[49m\n\u001b[0;32m   2589\u001b[0m \u001b[43m\u001b[49m\u001b[43m)\u001b[49m\n",
      "File \u001b[1;32m~\\anaconda3\\lib\\site-packages\\sklearn\\model_selection\\_split.py:2587\u001b[0m, in \u001b[0;36m<genexpr>\u001b[1;34m(.0)\u001b[0m\n\u001b[0;32m   2581\u001b[0m     cv \u001b[38;5;241m=\u001b[39m CVClass(test_size\u001b[38;5;241m=\u001b[39mn_test, train_size\u001b[38;5;241m=\u001b[39mn_train, random_state\u001b[38;5;241m=\u001b[39mrandom_state)\n\u001b[0;32m   2583\u001b[0m     train, test \u001b[38;5;241m=\u001b[39m \u001b[38;5;28mnext\u001b[39m(cv\u001b[38;5;241m.\u001b[39msplit(X\u001b[38;5;241m=\u001b[39marrays[\u001b[38;5;241m0\u001b[39m], y\u001b[38;5;241m=\u001b[39mstratify))\n\u001b[0;32m   2585\u001b[0m \u001b[38;5;28;01mreturn\u001b[39;00m \u001b[38;5;28mlist\u001b[39m(\n\u001b[0;32m   2586\u001b[0m     chain\u001b[38;5;241m.\u001b[39mfrom_iterable(\n\u001b[1;32m-> 2587\u001b[0m         (\u001b[43m_safe_indexing\u001b[49m\u001b[43m(\u001b[49m\u001b[43ma\u001b[49m\u001b[43m,\u001b[49m\u001b[43m \u001b[49m\u001b[43mtrain\u001b[49m\u001b[43m)\u001b[49m, _safe_indexing(a, test)) \u001b[38;5;28;01mfor\u001b[39;00m a \u001b[38;5;129;01min\u001b[39;00m arrays\n\u001b[0;32m   2588\u001b[0m     )\n\u001b[0;32m   2589\u001b[0m )\n",
      "File \u001b[1;32m~\\anaconda3\\lib\\site-packages\\sklearn\\utils\\__init__.py:356\u001b[0m, in \u001b[0;36m_safe_indexing\u001b[1;34m(X, indices, axis)\u001b[0m\n\u001b[0;32m    354\u001b[0m     \u001b[38;5;28;01mreturn\u001b[39;00m _pandas_indexing(X, indices, indices_dtype, axis\u001b[38;5;241m=\u001b[39maxis)\n\u001b[0;32m    355\u001b[0m \u001b[38;5;28;01melif\u001b[39;00m \u001b[38;5;28mhasattr\u001b[39m(X, \u001b[38;5;124m\"\u001b[39m\u001b[38;5;124mshape\u001b[39m\u001b[38;5;124m\"\u001b[39m):\n\u001b[1;32m--> 356\u001b[0m     \u001b[38;5;28;01mreturn\u001b[39;00m \u001b[43m_array_indexing\u001b[49m\u001b[43m(\u001b[49m\u001b[43mX\u001b[49m\u001b[43m,\u001b[49m\u001b[43m \u001b[49m\u001b[43mindices\u001b[49m\u001b[43m,\u001b[49m\u001b[43m \u001b[49m\u001b[43mindices_dtype\u001b[49m\u001b[43m,\u001b[49m\u001b[43m \u001b[49m\u001b[43maxis\u001b[49m\u001b[38;5;241;43m=\u001b[39;49m\u001b[43maxis\u001b[49m\u001b[43m)\u001b[49m\n\u001b[0;32m    357\u001b[0m \u001b[38;5;28;01melse\u001b[39;00m:\n\u001b[0;32m    358\u001b[0m     \u001b[38;5;28;01mreturn\u001b[39;00m _list_indexing(X, indices, indices_dtype)\n",
      "File \u001b[1;32m~\\anaconda3\\lib\\site-packages\\sklearn\\utils\\__init__.py:185\u001b[0m, in \u001b[0;36m_array_indexing\u001b[1;34m(array, key, key_dtype, axis)\u001b[0m\n\u001b[0;32m    183\u001b[0m \u001b[38;5;28;01mif\u001b[39;00m \u001b[38;5;28misinstance\u001b[39m(key, \u001b[38;5;28mtuple\u001b[39m):\n\u001b[0;32m    184\u001b[0m     key \u001b[38;5;241m=\u001b[39m \u001b[38;5;28mlist\u001b[39m(key)\n\u001b[1;32m--> 185\u001b[0m \u001b[38;5;28;01mreturn\u001b[39;00m \u001b[43marray\u001b[49m\u001b[43m[\u001b[49m\u001b[43mkey\u001b[49m\u001b[43m]\u001b[49m \u001b[38;5;28;01mif\u001b[39;00m axis \u001b[38;5;241m==\u001b[39m \u001b[38;5;241m0\u001b[39m \u001b[38;5;28;01melse\u001b[39;00m array[:, key]\n",
      "\u001b[1;31mMemoryError\u001b[0m: Unable to allocate 2.84 GiB for an array with shape (35288, 60, 60, 3) and data type float64"
     ]
    }
   ],
   "source": [
    "X_train, X_test, y_train, y_test = train_test_split(X, y, test_size=0.1, random_state=1)"
   ]
  },
  {
   "cell_type": "code",
   "execution_count": null,
   "id": "7d1b9996",
   "metadata": {},
   "outputs": [],
   "source": [
    "def plot_scores(train) :\n",
    "    accuracy = train.history['accuracy']\n",
    "    val_accuracy = train.history['val_accuracy']\n",
    "    epochs = range(len(accuracy))\n",
    "    plt.plot(epochs, accuracy, 'b', label='Score apprentissage')\n",
    "    plt.plot(epochs, val_accuracy, 'r', label='Score validation')\n",
    "    plt.title('Scores')\n",
    "    plt.legend()\n",
    "    plt.show()"
   ]
  },
  {
   "cell_type": "code",
   "execution_count": 13,
   "id": "50f0579d",
   "metadata": {},
   "outputs": [],
   "source": [
    "# Modèle CNN plus profond\n",
    "model = Sequential()\n",
    "# model.add(Conv2D(32, (3, 3), input_shape=(30, 30, 3), activation='relu')) # si image de taille 30*30\n",
    "model.add(Conv2D(32, (3, 3), input_shape=(60, 60, 3), activation='relu'))\n",
    "model.add(MaxPooling2D(pool_size=(2, 2)))\n",
    "model.add(Dropout(0.2))\n",
    "model.add(Conv2D(20, (3, 3), activation='relu'))\n",
    "model.add(MaxPooling2D(pool_size=(2, 2)))\n",
    "model.add(Dropout(0.2))\n",
    "model.add(Conv2D(20, (3, 3), activation='relu'))\n",
    "model.add(MaxPooling2D(pool_size=(2, 2)))\n",
    "model.add(Dropout(0.2))\n",
    "model.add(Flatten())\n",
    "model.add(Dense(Nombre_classes, activation='softmax'))"
   ]
  },
  {
   "cell_type": "code",
   "execution_count": 14,
   "id": "9a74e79f",
   "metadata": {},
   "outputs": [],
   "source": [
    "# Compilation du modèle\n",
    "model.compile(loss='categorical_crossentropy', optimizer='adam', metrics=['accuracy'])"
   ]
  },
  {
   "cell_type": "code",
   "execution_count": 15,
   "id": "ec71416c",
   "metadata": {},
   "outputs": [
    {
     "name": "stdout",
     "output_type": "stream",
     "text": [
      "Model: \"sequential\"\n",
      "_________________________________________________________________\n",
      " Layer (type)                Output Shape              Param #   \n",
      "=================================================================\n",
      " conv2d (Conv2D)             (None, 58, 58, 32)        896       \n",
      "                                                                 \n",
      " max_pooling2d (MaxPooling2  (None, 29, 29, 32)        0         \n",
      " D)                                                              \n",
      "                                                                 \n",
      " dropout (Dropout)           (None, 29, 29, 32)        0         \n",
      "                                                                 \n",
      " conv2d_1 (Conv2D)           (None, 27, 27, 20)        5780      \n",
      "                                                                 \n",
      " max_pooling2d_1 (MaxPoolin  (None, 13, 13, 20)        0         \n",
      " g2D)                                                            \n",
      "                                                                 \n",
      " dropout_1 (Dropout)         (None, 13, 13, 20)        0         \n",
      "                                                                 \n",
      " conv2d_2 (Conv2D)           (None, 11, 11, 20)        3620      \n",
      "                                                                 \n",
      " max_pooling2d_2 (MaxPoolin  (None, 5, 5, 20)          0         \n",
      " g2D)                                                            \n",
      "                                                                 \n",
      " dropout_2 (Dropout)         (None, 5, 5, 20)          0         \n",
      "                                                                 \n",
      " flatten (Flatten)           (None, 500)               0         \n",
      "                                                                 \n",
      " dense (Dense)               (None, 43)                21543     \n",
      "                                                                 \n",
      "=================================================================\n",
      "Total params: 31839 (124.37 KB)\n",
      "Trainable params: 31839 (124.37 KB)\n",
      "Non-trainable params: 0 (0.00 Byte)\n",
      "_________________________________________________________________\n"
     ]
    }
   ],
   "source": [
    "model.summary()"
   ]
  },
  {
   "cell_type": "code",
   "execution_count": 16,
   "id": "9f3692bf",
   "metadata": {},
   "outputs": [
    {
     "ename": "NameError",
     "evalue": "name 'X_train' is not defined",
     "output_type": "error",
     "traceback": [
      "\u001b[1;31m---------------------------------------------------------------------------\u001b[0m",
      "\u001b[1;31mNameError\u001b[0m                                 Traceback (most recent call last)",
      "Cell \u001b[1;32mIn[16], line 2\u001b[0m\n\u001b[0;32m      1\u001b[0m \u001b[38;5;66;03m# Apprentissage\u001b[39;00m\n\u001b[1;32m----> 2\u001b[0m train \u001b[38;5;241m=\u001b[39m model\u001b[38;5;241m.\u001b[39mfit(\u001b[43mX_train\u001b[49m, y_train, validation_data\u001b[38;5;241m=\u001b[39m(X_test, y_test), epochs\u001b[38;5;241m=\u001b[39m\u001b[38;5;241m10\u001b[39m, verbose\u001b[38;5;241m=\u001b[39m\u001b[38;5;241m1\u001b[39m)\n",
      "\u001b[1;31mNameError\u001b[0m: name 'X_train' is not defined"
     ]
    }
   ],
   "source": [
    "# Apprentissage\n",
    "train = model.fit(X_train, y_train, validation_data=(X_test, y_test), epochs=20, verbose=1)"
   ]
  },
  {
   "cell_type": "code",
   "execution_count": 14,
   "id": "d3396e31",
   "metadata": {},
   "outputs": [
    {
     "ename": "NameError",
     "evalue": "name 'model' is not defined",
     "output_type": "error",
     "traceback": [
      "\u001b[1;31m---------------------------------------------------------------------------\u001b[0m",
      "\u001b[1;31mNameError\u001b[0m                                 Traceback (most recent call last)",
      "Cell \u001b[1;32mIn[14], line 1\u001b[0m\n\u001b[1;32m----> 1\u001b[0m scores \u001b[38;5;241m=\u001b[39m \u001b[43mmodel\u001b[49m\u001b[38;5;241m.\u001b[39mevaluate(X_test, y_test, verbose\u001b[38;5;241m=\u001b[39m\u001b[38;5;241m0\u001b[39m)\n\u001b[0;32m      2\u001b[0m \u001b[38;5;28mprint\u001b[39m(\u001b[38;5;124m\"\u001b[39m\u001b[38;5;124mScore : \u001b[39m\u001b[38;5;132;01m%.2f\u001b[39;00m\u001b[38;5;132;01m%%\u001b[39;00m\u001b[38;5;124m\"\u001b[39m \u001b[38;5;241m%\u001b[39m (scores[\u001b[38;5;241m1\u001b[39m]\u001b[38;5;241m*\u001b[39m\u001b[38;5;241m100\u001b[39m))\n",
      "\u001b[1;31mNameError\u001b[0m: name 'model' is not defined"
     ]
    }
   ],
   "source": [
    "scores = model.evaluate(X_test, y_test, verbose=0)\n",
    "print(\"Score : %.2f%%\" % (scores[1]*100))"
   ]
  },
  {
   "cell_type": "code",
   "execution_count": 22,
   "id": "9007e28b",
   "metadata": {},
   "outputs": [
    {
     "data": {
      "image/png": "[encoded data removed]",
      "text/plain": [
       "<Figure size 640x480 with 1 Axes>"
      ]
     },
     "metadata": {},
     "output_type": "display_data"
    }
   ],
   "source": [
    "plot_scores(train)"
   ]
  },
  {
   "cell_type": "code",
   "execution_count": 13,
   "id": "0b609d35",
   "metadata": {},
   "outputs": [
    {
     "ename": "NameError",
     "evalue": "name 'model' is not defined",
     "output_type": "error",
     "traceback": [
      "\u001b[1;31m---------------------------------------------------------------------------\u001b[0m",
      "\u001b[1;31mNameError\u001b[0m                                 Traceback (most recent call last)",
      "Cell \u001b[1;32mIn[13], line 1\u001b[0m\n\u001b[1;32m----> 1\u001b[0m \u001b[43mmodel\u001b[49m\u001b[38;5;241m.\u001b[39msave(\u001b[38;5;124m'\u001b[39m\u001b[38;5;124mmodele_cnn_reconnaissance_panneaux_APR.h5\u001b[39m\u001b[38;5;124m'\u001b[39m)\n",
      "\u001b[1;31mNameError\u001b[0m: name 'model' is not defined"
     ]
    }
   ],
   "source": [
    "model.save('modele_cnn_reconnaissance_panneaux_APR.h5')"
   ]
  },
  {
   "cell_type": "code",
   "execution_count": 24,
   "id": "467d8065",
   "metadata": {},
   "outputs": [
    {
     "ename": "TypeError",
     "evalue": "only integer scalar arrays can be converted to a scalar index",
     "output_type": "error",
     "traceback": [
      "\u001b[1;31m---------------------------------------------------------------------------\u001b[0m",
      "\u001b[1;31mTypeError\u001b[0m                                 Traceback (most recent call last)",
      "Cell \u001b[1;32mIn[24], line 3\u001b[0m\n\u001b[0;32m      1\u001b[0m \u001b[38;5;66;03m# faire le code pour afficher l'image choisie\u001b[39;00m\n\u001b[0;32m      2\u001b[0m plt\u001b[38;5;241m.\u001b[39mimshow(X_test[\u001b[38;5;241m0\u001b[39m])\n\u001b[1;32m----> 3\u001b[0m plt\u001b[38;5;241m.\u001b[39mtitle(\u001b[43mClasses\u001b[49m\u001b[43m[\u001b[49m\u001b[43my\u001b[49m\u001b[43m[\u001b[49m\u001b[38;5;241;43m0\u001b[39;49m\u001b[43m]\u001b[49m\u001b[43m]\u001b[49m)\n",
      "\u001b[1;31mTypeError\u001b[0m: only integer scalar arrays can be converted to a scalar index"
     ]
    },
    {
     "data": {
      "image/png": "[encoded data removed]",
      "text/plain": [
       "<Figure size 640x480 with 1 Axes>"
      ]
     },
     "metadata": {},
     "output_type": "display_data"
    }
   ],
   "source": [
    "# faire le code pour afficher l'image choisie\n",
    "plt.imshow(X_test[0])\n",
    "plt.title(Classes[y[0]])"
   ]
  },
  {
   "cell_type": "code",
   "execution_count": 25,
   "id": "8e9689d7",
   "metadata": {},
   "outputs": [],
   "source": [
    "# L'image que l'on charge ici n'est pas dans la partie train du dataset donc pas de biais d'apprentissage\n",
    "\n",
    "X_1image = []\n",
    "\n",
    "# image = chemin vers l'image si on veut en importer une extérieure au dataset\n",
    "# img = cv2.imread(image) # Lecture de l'image dans le repertoire\n",
    "# img = cv2.cvtColor(img, cv2.COLOR_BGR2RGB) # Conversion couleur RGB\n",
    "# img = cv2.resize(img, (60,60)) # Redimensionnement de l'image\n",
    "\n",
    "img = X_test[0] # on peut aussi prendre une image de la partie test du dataset\n",
    "\n",
    "X_1image.append(np.array(img)) # Conversion en tableau et ajout a la liste des images\n",
    "X_1image = np.array(X_1image)\n",
    "X_1image = X_1image/255"
   ]
  },
  {
   "cell_type": "code",
   "execution_count": 26,
   "id": "48933073",
   "metadata": {},
   "outputs": [
    {
     "data": {
      "text/plain": [
       "(1, 60, 60, 3)"
      ]
     },
     "execution_count": 26,
     "metadata": {},
     "output_type": "execute_result"
    }
   ],
   "source": [
    "X_1image.shape"
   ]
  },
  {
   "cell_type": "code",
   "execution_count": 27,
   "id": "1ff043e3",
   "metadata": {},
   "outputs": [
    {
     "name": "stdout",
     "output_type": "stream",
     "text": [
      "1/1 [==============================] - 0s 463ms/step\n"
     ]
    }
   ],
   "source": [
    "liste_predictions = model.predict(X_1image)"
   ]
  },
  {
   "cell_type": "code",
   "execution_count": 28,
   "id": "c653574b",
   "metadata": {},
   "outputs": [
    {
     "data": {
      "text/plain": [
       "array([[6.2140061e-05, 3.0027716e-03, 3.1002274e-02, 1.7919344e-01,\n",
       "        9.8993018e-02, 3.9103553e-01, 3.6764474e-04, 3.8119696e-02,\n",
       "        3.5786610e-02, 2.8832338e-03, 8.8107679e-03, 1.4062338e-03,\n",
       "        5.5859162e-04, 8.2867779e-03, 8.9879130e-04, 1.3791780e-04,\n",
       "        6.7562197e-04, 1.5566812e-03, 2.8130778e-03, 2.9716756e-02,\n",
       "        9.3034835e-04, 1.8649381e-03, 1.7612170e-04, 1.8675366e-02,\n",
       "        9.6441952e-05, 6.2473729e-02, 9.5224375e-04, 2.7783983e-04,\n",
       "        1.2282999e-03, 2.5888681e-04, 2.2270335e-03, 4.2593040e-02,\n",
       "        2.1359070e-04, 6.7994338e-03, 1.3494276e-03, 4.5115623e-04,\n",
       "        4.5749152e-04, 1.5079795e-04, 1.0739142e-02, 7.2625576e-04,\n",
       "        9.2510842e-03, 1.2777696e-03, 1.5221051e-03]], dtype=float32)"
      ]
     },
     "execution_count": 28,
     "metadata": {},
     "output_type": "execute_result"
    }
   ],
   "source": [
    "liste_predictions"
   ]
  },
  {
   "cell_type": "code",
   "execution_count": 29,
   "id": "ef0e8479",
   "metadata": {},
   "outputs": [
    {
     "data": {
      "text/plain": [
       "5"
      ]
     },
     "execution_count": 29,
     "metadata": {},
     "output_type": "execute_result"
    }
   ],
   "source": [
    "prediction = np.argmax(liste_predictions, axis=-1)\n",
    "prediction[0]"
   ]
  },
  {
   "cell_type": "code",
   "execution_count": 30,
   "id": "bcb63cdd",
   "metadata": {},
   "outputs": [
    {
     "data": {
      "text/plain": [
       "'Speed limit (80km/h)'"
      ]
     },
     "execution_count": 30,
     "metadata": {},
     "output_type": "execute_result"
    }
   ],
   "source": [
    "Classes[prediction[0]]"
   ]
  },
  {
   "cell_type": "code",
   "execution_count": 31,
   "id": "f5ade3e7",
   "metadata": {},
   "outputs": [
    {
     "name": "stdout",
     "output_type": "stream",
     "text": [
      "1/1 [==============================] - 0s 33ms/step\n"
     ]
    },
    {
     "data": {
      "text/plain": [
       "'Slippery road'"
      ]
     },
     "execution_count": 31,
     "metadata": {},
     "output_type": "execute_result"
    },
    {
     "data": {
      "image/png": "[encoded data removed]",
      "text/plain": [
       "<Figure size 640x480 with 1 Axes>"
      ]
     },
     "metadata": {},
     "output_type": "display_data"
    }
   ],
   "source": [
    "X_1image = []\n",
    "image = 'C:/Users/kjh/Documents/images/road123.png'\n",
    "img = cv2.imread(image) # Lecture de l'image dans le repertoire\n",
    "\n",
    "img = cv2.cvtColor(img, cv2.COLOR_BGR2RGB) # Conversion couleur RGB\n",
    "img = cv2.resize(img, (60,60)) # Redimensionnement de l'image\n",
    "X_1image.append(np.array(img)) # Conversion en tableau et ajout a la liste des images\n",
    "X_1image = np.array(X_1image)\n",
    "X_1image = X_1image/255\n",
    "\n",
    "plt.imshow(X_1image[0])\n",
    "prediction = np.argmax(model.predict(X_1image), axis=-1)\n",
    "\n",
    "Classes[prediction[0]]"
   ]
  },
  {
   "cell_type": "code",
   "execution_count": 32,
   "id": "91a75baa",
   "metadata": {},
   "outputs": [
    {
     "ename": "error",
     "evalue": "OpenCV(4.8.0) D:\\a\\opencv-python\\opencv-python\\opencv\\modules\\imgproc\\src\\color.cpp:182: error: (-215:Assertion failed) !_src.empty() in function 'cv::cvtColor'\n",
     "output_type": "error",
     "traceback": [
      "\u001b[1;31m---------------------------------------------------------------------------\u001b[0m",
      "\u001b[1;31merror\u001b[0m                                     Traceback (most recent call last)",
      "Cell \u001b[1;32mIn[32], line 5\u001b[0m\n\u001b[0;32m      2\u001b[0m image \u001b[38;5;241m=\u001b[39m \u001b[38;5;124m'\u001b[39m\u001b[38;5;124mC:/Users/kjh/AppData/Local/Temp/Rar$DI90.604/panneau_sens_interdit.png\u001b[39m\u001b[38;5;124m'\u001b[39m\n\u001b[0;32m      3\u001b[0m img \u001b[38;5;241m=\u001b[39m cv2\u001b[38;5;241m.\u001b[39mimread(image) \u001b[38;5;66;03m# Lecture de l'image dans le repertoire\u001b[39;00m\n\u001b[1;32m----> 5\u001b[0m img \u001b[38;5;241m=\u001b[39m \u001b[43mcv2\u001b[49m\u001b[38;5;241;43m.\u001b[39;49m\u001b[43mcvtColor\u001b[49m\u001b[43m(\u001b[49m\u001b[43mimg\u001b[49m\u001b[43m,\u001b[49m\u001b[43m \u001b[49m\u001b[43mcv2\u001b[49m\u001b[38;5;241;43m.\u001b[39;49m\u001b[43mCOLOR_BGR2RGB\u001b[49m\u001b[43m)\u001b[49m \u001b[38;5;66;03m# Conversion couleur RGB\u001b[39;00m\n\u001b[0;32m      6\u001b[0m img \u001b[38;5;241m=\u001b[39m cv2\u001b[38;5;241m.\u001b[39mresize(img, (\u001b[38;5;241m60\u001b[39m,\u001b[38;5;241m60\u001b[39m)) \u001b[38;5;66;03m# Redimensionnement de l'image\u001b[39;00m\n\u001b[0;32m      7\u001b[0m X_1image\u001b[38;5;241m.\u001b[39mappend(np\u001b[38;5;241m.\u001b[39marray(img)) \u001b[38;5;66;03m# Conversion en tableau et ajout a la liste des images\u001b[39;00m\n",
      "\u001b[1;31merror\u001b[0m: OpenCV(4.8.0) D:\\a\\opencv-python\\opencv-python\\opencv\\modules\\imgproc\\src\\color.cpp:182: error: (-215:Assertion failed) !_src.empty() in function 'cv::cvtColor'\n"
     ]
    }
   ],
   "source": [
    "X_1image = []\n",
    "image = 'C:/Users/kjh/AppData/Local/Temp/Rar$DI90.604/panneau_sens_interdit.png'\n",
    "img = cv2.imread(image) # Lecture de l'image dans le repertoire\n",
    "\n",
    "img = cv2.cvtColor(img, cv2.COLOR_BGR2RGB) # Conversion couleur RGB\n",
    "img = cv2.resize(img, (60,60)) # Redimensionnement de l'image\n",
    "X_1image.append(np.array(img)) # Conversion en tableau et ajout a la liste des images\n",
    "X_1image = np.array(X_1image)\n",
    "X_1image = X_1image/255\n",
    "\n",
    "plt.imshow(X_1image[0])\n",
    "prediction = np.argmax(model.predict(X_1image), axis=-1)\n",
    "\n",
    "Classes[prediction[0]]"
   ]
  },
  {
   "cell_type": "code",
   "execution_count": 33,
   "id": "89340a6b",
   "metadata": {},
   "outputs": [
    {
     "name": "stdout",
     "output_type": "stream",
     "text": [
      "1/1 [==============================] - 0s 38ms/step\n"
     ]
    },
    {
     "data": {
      "text/plain": [
       "'Dangerous curve right'"
      ]
     },
     "execution_count": 33,
     "metadata": {},
     "output_type": "execute_result"
    },
    {
     "data": {
      "image/png": "[encoded data removed]",
      "text/plain": [
       "<Figure size 640x480 with 1 Axes>"
      ]
     },
     "metadata": {},
     "output_type": "display_data"
    }
   ],
   "source": [
    "X_1image = []\n",
    "image = 'C:/Users/kjh/Downloads/archive (4)/panneau_virage_droite.jpg'\n",
    "img = cv2.imread(image) # Lecture de l'image dans le repertoire\n",
    "\n",
    "img = cv2.cvtColor(img, cv2.COLOR_BGR2RGB) # Conversion couleur RGB\n",
    "img = cv2.resize(img, (60,60)) # Redimensionnement de l'image\n",
    "X_1image.append(np.array(img)) # Conversion en tableau et ajout a la liste des images\n",
    "X_1image = np.array(X_1image)\n",
    "X_1image = X_1image/255\n",
    "\n",
    "plt.imshow(X_1image[0])\n",
    "prediction = np.argmax(model.predict(X_1image), axis=-1)\n",
    "\n",
    "Classes[prediction[0]]"
   ]
  },
  {
   "cell_type": "code",
   "execution_count": 34,
   "id": "2eace4d8",
   "metadata": {},
   "outputs": [],
   "source": []
  },
  {
   "cell_type": "code",
   "execution_count": 19,
   "id": "daa67cd2",
   "metadata": {
    "scrolled": true
   },
   "outputs": [],
   "source": [
    "# importing dependencies\n",
    "#from prediction import runVideo\n",
    "import glob\n",
    "import os\n",
    "from flask import Flask, render_template, request, redirect, url_for\n",
    "\n",
    "app = Flask(__name__)\n",
    "\n",
    "\n",
    "app = Flask(__name__)\n",
    "app.secret_key = \"detectform\"\n",
    "\n",
    "ALLOWED_EXTENSIONS = {'mp4'}\n",
    "\n",
    "\n",
    "def allowed_file(filename):\n",
    "    return '.' in filename and \\\n",
    "           filename.rsplit('.', 1)[1].lower() in ALLOWED_EXTENSIONS\n",
    "\n",
    "\n",
    "path = os.getcwd()\n",
    "UPLOAD_FOLDER = os.path.join(path, 'uploads')\n",
    "if not os.path.isdir(UPLOAD_FOLDER):\n",
    "    os.mkdir(UPLOAD_FOLDER)\n",
    "\n",
    "BASE_DIR = os.getcwd()\n",
    "dir = os.path.join(BASE_DIR, \"uploads\")\n",
    "\n",
    "for root, dirs, files in os.walk(dir):\n",
    "    for file in files:\n",
    "        path = os.path.join(dir, file)\n",
    "        os.remove(path)\n",
    "\n",
    "app.config['UPLOAD_FOLDER'] = UPLOAD_FOLDER\n",
    "\n",
    "# MAIN APP MAKING\n",
    "\n",
    "# Home Page\n",
    "\n",
    "\n",
    "@app.route('/')\n",
    "def index():\n",
    "    return render_template('index.html')\n",
    "\n",
    "# Prediction - Vehicle Details Page\n",
    "\n",
    "\n",
    "@app.route('/cardetails', methods=['POST'])\n",
    "def upload_file():\n",
    "    global videoPath\n",
    "    uploaded_file = request.files['file']\n",
    "    if uploaded_file.filename != '':\n",
    "        videoPath = UPLOAD_FOLDER + \"\\\\\" + uploaded_file.filename\n",
    "        uploaded_file.save(videoPath)\n",
    "\n",
    "    vehInfo = runVideo(videoPath)\n",
    "    print(vehInfo)\n",
    "\n",
    "    # EMPTY UPLOAD FOLDER\n",
    "    BASE_DIR = os.getcwd()\n",
    "    dir = os.path.join(BASE_DIR, \"uploads\")\n",
    "\n",
    "    for root, dirs, files in os.walk(dir):\n",
    "        for file in files:\n",
    "            path = os.path.join(dir, file)\n",
    "            os.remove(path)\n",
    "\n",
    "    carDesc = vehInfo[\"CarMake\"][\"CurrentTextValue\"]\n",
    "    carModel = vehInfo[\"CarModel\"][\"CurrentTextValue\"]\n",
    "    return render_template(\"/carDetails.html\", carDesc=carDesc, carModel=carModel, vehInfo=vehInfo)\n"
   ]
  },
  {
   "cell_type": "markdown",
   "id": "c17b6a89",
   "metadata": {},
   "source": [
    "\n"
   ]
  },
  {
   "cell_type": "code",
   "execution_count": null,
   "id": "a3cfbfa6",
   "metadata": {},
   "outputs": [],
   "source": []
  },
  {
   "cell_type": "code",
   "execution_count": null,
   "id": "02b01272",
   "metadata": {},
   "outputs": [],
   "source": []
  },
  {
   "cell_type": "code",
   "execution_count": null,
   "id": "377f9195",
   "metadata": {},
   "outputs": [],
   "source": []
  }
 ],
 "metadata": {
  "kernelspec": {
   "display_name": "Python 3 (ipykernel)",
   "language": "python",
   "name": "python3"
  },
  "language_info": {
   "codemirror_mode": {
    "name": "ipython",
    "version": 3
   },
   "file_extension": ".py",
   "mimetype": "text/x-python",
   "name": "python",
   "nbconvert_exporter": "python",
   "pygments_lexer": "ipython3",
   "version": "3.10.9"
  }
 },
 "nbformat": 4,
 "nbformat_minor": 5
}
